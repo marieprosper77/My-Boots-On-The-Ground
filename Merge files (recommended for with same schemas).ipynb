{
 "cells": [
  {
   "cell_type": "code",
   "execution_count": null,
   "id": "fdabe9c9",
   "metadata": {},
   "outputs": [],
   "source": [
    "#Merge all files with same schema within the same folder\n",
    "#The code also ensure no duplicates. \n",
    "\n",
    "import sys\n",
    "import csv\n",
    "import glob\n",
    "import pandas as pd\n",
    "import numpy as np\n",
    "\n",
    "\n",
    "#Merge all files into 1 sheet\n",
    "\n",
    "# get data file name\n",
    "path =r'Y:\\'\n",
    "filenames = glob.glob(path + \"/*.xlsx\")\n",
    "\n",
    "\n",
    "all_data = pd.DataFrame()\n",
    "list = []\n",
    "for f in filenames:\n",
    "    df = pd.read_excel(f,index_col=None, header=0)\n",
    "    \n",
    "    #If you are expecting duplicates then this section can be commented out.\n",
    "    df.drop_duplicates(keep = False, inplace = True)  #replace the subset to your unique field\n",
    "    \n",
    "    all_data = all_data.append(df,ignore_index=True)\n",
    "    \n",
    "\n",
    "    \n"
   ]
  },
  {
   "cell_type": "code",
   "execution_count": 15,
   "id": "ad05706c",
   "metadata": {},
   "outputs": [],
   "source": [
    "# now save the data frame\n",
    "writer = pd.ExcelWriter('Merged Output.xlsx')\n",
    "all_data.to_excel(writer,'sheet1',index=False)\n",
    "writer.save()  "
   ]
  },
  {
   "cell_type": "code",
   "execution_count": 16,
   "id": "8f5c4329",
   "metadata": {},
   "outputs": [],
   "source": [
    "#Run when above has an output number but synch is still pending in folder\n",
    "\n",
    "writer.close()"
   ]
  },
  {
   "cell_type": "code",
   "execution_count": null,
   "id": "076542e2",
   "metadata": {},
   "outputs": [],
   "source": []
  }
 ],
 "metadata": {
  "kernelspec": {
   "display_name": "Python 3",
   "language": "python",
   "name": "python3"
  },
  "language_info": {
   "codemirror_mode": {
    "name": "ipython",
    "version": 3
   },
   "file_extension": ".py",
   "mimetype": "text/x-python",
   "name": "python",
   "nbconvert_exporter": "python",
   "pygments_lexer": "ipython3",
   "version": "3.8.8"
  }
 },
 "nbformat": 4,
 "nbformat_minor": 5
}
