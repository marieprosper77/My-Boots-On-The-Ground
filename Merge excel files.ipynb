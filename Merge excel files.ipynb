{
 "cells": [
  {
   "cell_type": "code",
   "execution_count": 25,
   "id": "fdabe9c9",
   "metadata": {},
   "outputs": [],
   "source": [
    "import sys\n",
    "import csv\n",
    "import glob\n",
    "import pandas as pd\n",
    "import numpy as np\n",
    "\n",
    "\n",
    "# get data file names\n",
    "\n",
    "# get data file name\n",
    "path =r'Y:\\folder\\Summary'\n",
    "filenames = glob.glob(path + \"/*.xlsx\")\n",
    "\n",
    "\n",
    "all_data = pd.DataFrame()\n",
    "list = []\n",
    "for f in filenames:\n",
    "    df = pd.read_excel(f,index_col=None, header=0)\n",
    "    all_data = all_data.append(df,ignore_index=True)\n",
    "    \n"
   ]
  },
  {
   "cell_type": "code",
   "execution_count": 26,
   "id": "ad05706c",
   "metadata": {},
   "outputs": [],
   "source": [
    "# now save the data frame\n",
    "writer = pd.ExcelWriter('output.xlsx')\n",
    "all_data.to_excel(writer,'sheet1')\n",
    "writer.save()  "
   ]
  },
  {
   "cell_type": "code",
   "execution_count": null,
   "id": "8f5c4329",
   "metadata": {},
   "outputs": [],
   "source": []
  }
 ],
 "metadata": {
  "kernelspec": {
   "display_name": "Python 3",
   "language": "python",
   "name": "python3"
  },
  "language_info": {
   "codemirror_mode": {
    "name": "ipython",
    "version": 3
   },
   "file_extension": ".py",
   "mimetype": "text/x-python",
   "name": "python",
   "nbconvert_exporter": "python",
   "pygments_lexer": "ipython3",
   "version": "3.8.8"
  }
 },
 "nbformat": 4,
 "nbformat_minor": 5
}
