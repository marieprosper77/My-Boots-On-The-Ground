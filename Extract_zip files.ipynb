{
 "cells": [
  {
   "cell_type": "code",
   "execution_count": null,
   "id": "bfc9189f",
   "metadata": {},
   "outputs": [],
   "source": [
    "#Unzip files and place all in the  zip_file_path folder below\n",
    "\n",
    "import os \n",
    "import zipfile\n",
    "\n",
    "zip_file_path = \"C:\\\\Users\\\\p\\\\Desktop\\\\Outlook Export\\\\Zip files\"\n",
    "file_list = os.listdir(zip_file_path)\n",
    "\n",
    "\n",
    "abs_path = []\n",
    "try:\n",
    "    for a in file_list:\n",
    "        x = zip_file_path+'\\\\'+a\n",
    "        print (x)\n",
    "        abs_path.append(x)\n",
    "    for f in abs_path:\n",
    "        zip=zipfile.ZipFile(f)\n",
    "        zip.extractall(zip_file_path)\n",
    "except Exception as e:\n",
    "    print(\"type error: \" + str(e))\n",
    "    x=1"
   ]
  },
  {
   "cell_type": "code",
   "execution_count": null,
   "id": "659e237a",
   "metadata": {},
   "outputs": [],
   "source": [
    "#unzip files and keep same same zip file name\n",
    "\n",
    "import os, zipfile\n",
    "\n",
    "dir_name = 'C:\\\\Users\\\\p\\\\Desktop\\\\Outlook Export\\\\Zip files'\n",
    "extension = \".zip\"\n",
    "\n",
    "os.chdir(dir_name) # change directory from working dir to dir with files\n",
    "\n",
    "try:\n",
    "    for item in os.listdir(dir_name):\n",
    "        if item.endswith(extension):\n",
    "            file_name = os.path.abspath(item)\n",
    "            with zipfile.ZipFile(file_name, 'r') as zipObj:\n",
    "                listOfFileNames = zipObj.namelist()\n",
    "                for fileName in listOfFileNames:\n",
    "                    zipObj.extract(fileName)\n",
    "                    zipObj.extract(fileName, os.path.basename(item).replace('.zip',''))\n",
    "                    #print (file_name)\n",
    "except Exception as e:\n",
    "    print(\"type error: \" + str(e))\n",
    "    x=1"
   ]
  },
  {
   "cell_type": "code",
   "execution_count": null,
   "id": "f76c6dbe",
   "metadata": {},
   "outputs": [],
   "source": []
  }
 ],
 "metadata": {
  "kernelspec": {
   "display_name": "Python 3",
   "language": "python",
   "name": "python3"
  },
  "language_info": {
   "codemirror_mode": {
    "name": "ipython",
    "version": 3
   },
   "file_extension": ".py",
   "mimetype": "text/x-python",
   "name": "python",
   "nbconvert_exporter": "python",
   "pygments_lexer": "ipython3",
   "version": "3.8.8"
  }
 },
 "nbformat": 4,
 "nbformat_minor": 5
}
