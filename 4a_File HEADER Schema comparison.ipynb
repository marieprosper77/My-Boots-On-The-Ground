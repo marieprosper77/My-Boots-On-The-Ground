{
 "cells": [
  {
   "cell_type": "markdown",
   "id": "4ef19352",
   "metadata": {},
   "source": [
    "# Read in file headers from same folder to compare schema "
   ]
  },
  {
   "cell_type": "code",
   "execution_count": null,
   "id": "b538c044",
   "metadata": {},
   "outputs": [],
   "source": [
    "#Future enhancements:\n",
    "#Print filename in index 0\n",
    "#to have python highlight differences automatically\n",
    "#for now go to excel output file> highligh schema fields ONLY()>find & Select>Go to Special) - repeat twice and sekect a desired fill color"
   ]
  },
  {
   "cell_type": "code",
   "execution_count": null,
   "id": "d82e9cfe",
   "metadata": {},
   "outputs": [],
   "source": [
    "#!pip install --trusted-host pypi.org --trusted-host pypi.python.org --trusted-host files.pythonhosted.org pyspark"
   ]
  },
  {
   "cell_type": "code",
   "execution_count": null,
   "id": "8043bdd1",
   "metadata": {
    "scrolled": false
   },
   "outputs": [],
   "source": [
    "#!/usr/local/bin/bash"
   ]
  },
  {
   "cell_type": "code",
   "execution_count": null,
   "id": "1874a279",
   "metadata": {},
   "outputs": [],
   "source": [
    "import pandas as pd\n",
    "import numpy as np\n",
    "import os\n",
    "\n",
    "\n",
    "dir = (r'//molina.mhc\\YDRIVE\\California\\California Office\\Trang Tran\\Ancillary\\MolinaInvoiceAncillaryDetail')\n",
    "#(r'//molina.mhc\\ShareData\\SPFiles\\mhi\\sites\\CPS-RX\\MHI_Pharmacy_Ops\\Reports\\Data_and_Analytics\\PDL\\MI')\n",
    "\n",
    "#n_sheets = 25\n",
    "#int_sheet_names = np.arange(0,n_sheets,1)\n",
    "df = pd.DataFrame()\n",
    "\n",
    "count=0\n",
    "try:\n",
    "    for i in os.listdir(dir):\n",
    "        f1=os.path.join(dir, i)\n",
    "        count=count+1\n",
    "        sheet_i_col_names = pd.read_excel(f1,  header=None, nrows=1).assign(filename=i)\n",
    "\n",
    "        #Initializing columns headers \n",
    "        headername1=sheet_i_col_names.columns.values\n",
    "        #count total number of columns\n",
    "        file1_colcount=len(headername1)\n",
    "        #Initializing the list of file header\n",
    "        print(count,'. There are ', file1_colcount, 'columns in file: ', i) #, filename1)\n",
    "\n",
    "        df = df.append(sheet_i_col_names)\n",
    "    \n",
    "except Exception as e:\n",
    "    print(\"type error: \" + str(e))\n",
    "    x=1"
   ]
  },
  {
   "cell_type": "code",
   "execution_count": null,
   "id": "e50787e8",
   "metadata": {
    "scrolled": true
   },
   "outputs": [],
   "source": [
    "#display full text in dataframe\n",
    "pd.set_option(\"display.max_colwidth\", None) \n",
    "df"
   ]
  },
  {
   "cell_type": "code",
   "execution_count": null,
   "id": "f993277c",
   "metadata": {},
   "outputs": [],
   "source": [
    "#Replacing Nan with space\n",
    "df.replace(np.nan, '', regex=True) "
   ]
  },
  {
   "cell_type": "code",
   "execution_count": null,
   "id": "d4edb9bc",
   "metadata": {},
   "outputs": [],
   "source": [
    "writer = pd.ExcelWriter('Ancillary Compared Schema Differences.xlsx')\n",
    "df.to_excel(writer,sheet_name='Sheet2',)\n",
    "writer.save()"
   ]
  },
  {
   "cell_type": "code",
   "execution_count": null,
   "id": "06f9451f",
   "metadata": {},
   "outputs": [],
   "source": [
    "writer.close()"
   ]
  },
  {
   "cell_type": "code",
   "execution_count": null,
   "id": "5d5d75d7",
   "metadata": {},
   "outputs": [],
   "source": []
  }
 ],
 "metadata": {
  "kernelspec": {
   "display_name": "Python 3",
   "language": "python",
   "name": "python3"
  },
  "language_info": {
   "codemirror_mode": {
    "name": "ipython",
    "version": 3
   },
   "file_extension": ".py",
   "mimetype": "text/x-python",
   "name": "python",
   "nbconvert_exporter": "python",
   "pygments_lexer": "ipython3",
   "version": "3.8.8"
  }
 },
 "nbformat": 4,
 "nbformat_minor": 5
}
