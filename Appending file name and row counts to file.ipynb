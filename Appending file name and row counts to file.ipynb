{
 "cells": [
  {
   "cell_type": "code",
   "execution_count": 1,
   "id": "8d6d215d",
   "metadata": {},
   "outputs": [],
   "source": [
    "import os\n",
    "import pandas as pd\n",
    "import time\n",
    "import glob\n",
    "import numpy as np\n",
    "import sys\n",
    "import openpyxl\n",
    "from pathlib import Path\n",
    "import shutil\n",
    "from os import path\n",
    "from os.path import exists\n",
    "import datetime\n",
    "import sqlite3\n",
    "from openpyxl import load_workbook\n",
    "from pandas import ExcelWriter\n",
    "from pandas import ExcelFile\n",
    "from pandas import DataFrame\n",
    "from openpyxl import Workbook"
   ]
  },
  {
   "cell_type": "code",
   "execution_count": 9,
   "id": "e3fd5614",
   "metadata": {},
   "outputs": [],
   "source": [
    "#Read multiple Excel sheets with Python pandas\n",
    "#df = pd.read_excel('users.xlsx', sheet_name = [0,1,2])\n",
    "#df = pd.read_excel('users.xlsx', sheet_name = ['User_info','compound'])\n",
    "#df = pd.read_excel('users.xlsx', sheet_name = None) # read all sheets \n",
    "\n",
    "all_book = load_workbook('dashboard_file.xlsx')\n",
    "\n"
   ]
  },
  {
   "cell_type": "code",
   "execution_count": null,
   "id": "07ee0928",
   "metadata": {},
   "outputs": [],
   "source": [
    "#PA all Date Excel export filename and row count\n",
    "\n",
    "#directory_all = '//sharedrive\\folder\\all Date'\n",
    "directory_all = (r'C:\\Users\\prosperm')\n",
    "\n",
    "\n",
    "#all a list for add all\n",
    "all_data = []\n",
    "\n",
    "all_count=0\n",
    "for all_filename in os.listdir(directory_all):\n",
    "    if all_filename.endswith(\".XLSX\"):\n",
    "         file_all=os.path.join(directory_all, all_filename)\n",
    "         all_df=pd.read_excel(file_all)\n",
    "         #all_df_list ={all_df}\n",
    "         all_count=all_count+1\n",
    "         #note_text_str = note_filenname.replace(' ', '_')\n",
    "           \n",
    "         #Count rows\n",
    "         all_rowcount=len(all_df.index)\n",
    "         print('File number: ',all_count,all_filename,all_rowcount)\n",
    "        \n",
    "         #if all_filename not in df1_reader:\n",
    "         all_new_row = {'namefile':all_filename, 'Raw_Rowcount':all_rowcount}\n",
    "         all_data.append(all_new_row)\n",
    "        \n",
    "#pass list to dataframe\n",
    "df1_all = pd.DataFrame(all_data)\n",
    "\n",
    "#df1_all.reset_index()"
   ]
  },
  {
   "cell_type": "code",
   "execution_count": 4,
   "id": "96e0896c",
   "metadata": {},
   "outputs": [],
   "source": [
    "#all_reader = pd.read_excel(r'PA_dashboard_alld 5.xlsx', 'Daily_PA_all_Date')\n",
    "#df1_reader = pd.DataFrame(all_reader)\n",
    "#df1_reader.reset_index(inplace = True, col_level = 1)"
   ]
  },
  {
   "cell_type": "code",
   "execution_count": 5,
   "id": "2475a1c2",
   "metadata": {},
   "outputs": [],
   "source": [
    "import datetime\n",
    "#x1 = 'PA/'\n",
    "#x2 = time.time()\n",
    "#x2 = datetime.datetime.now().strftime('%B %d, %Y %H-%M-%S')\n",
    "\n",
    "all_writer = pd.ExcelWriter('dashboard_alld3.xlsx', engine='openpyxl')\n",
    "all_writer.book = all_book\n",
    "all_writer.sheets = {ws.title: ws for ws in all_book.worksheets}\n",
    "#df1_all.index=all_writer.sheets['Daily_PA_all_Date'].max_row+1\n",
    "df1_all.to_excel(all_writer, sheet_name='Daily_sheet', header=False, startrow=all_writer.sheets['Daily_sheet'].max_row, startcol=1)\n",
    "\n",
    "all_writer.save()\n"
   ]
  },
  {
   "cell_type": "code",
   "execution_count": 6,
   "id": "4655bc08",
   "metadata": {},
   "outputs": [],
   "source": [
    "all_book.close()\n",
    "all_writer.close()\n"
   ]
  },
  {
   "cell_type": "code",
   "execution_count": 7,
   "id": "87c00c68",
   "metadata": {
    "scrolled": true
   },
   "outputs": [],
   "source": [
    "#df1_reader.drop_duplicates(subset=['namefile', 'Raw_Rowcount'])"
   ]
  },
  {
   "cell_type": "code",
   "execution_count": 8,
   "id": "7bf1a247",
   "metadata": {},
   "outputs": [],
   "source": [
    "#all_reader.drop_duplicates(subset=['namefile', 'Raw_Rowcount'],drop=True,inplace=True,index=False)\n",
    "#all_reader.to_excel(writer,'Daily_PA_all_Date')\n",
    "#all_writer.save()"
   ]
  },
  {
   "cell_type": "code",
   "execution_count": null,
   "id": "a1bd78df",
   "metadata": {},
   "outputs": [],
   "source": []
  }
 ],
 "metadata": {
  "kernelspec": {
   "display_name": "Python 3",
   "language": "python",
   "name": "python3"
  },
  "language_info": {
   "codemirror_mode": {
    "name": "ipython",
    "version": 3
   },
   "file_extension": ".py",
   "mimetype": "text/x-python",
   "name": "python",
   "nbconvert_exporter": "python",
   "pygments_lexer": "ipython3",
   "version": "3.8.8"
  }
 },
 "nbformat": 4,
 "nbformat_minor": 5
}
