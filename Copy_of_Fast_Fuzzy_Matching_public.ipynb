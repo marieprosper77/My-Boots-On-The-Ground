{
  "nbformat": 4,
  "nbformat_minor": 0,
  "metadata": {
    "colab": {
      "name": "Copy of Fast Fuzzy Matching public.ipynb",
      "provenance": [],
      "collapsed_sections": []
    },
    "kernelspec": {
      "name": "python3",
      "display_name": "Python 3"
    }
  },
  "cells": [
    {
      "cell_type": "markdown",
      "metadata": {
        "id": "44OAr7FgxyKK"
      },
      "source": [
        "#Fast Fuzzy Matching\n",
        "This notebook shows how to use TD IDF to both dedupe and match records at scale"
      ]
    },
    {
      "cell_type": "code",
      "metadata": {
        "id": "irmo0Yq6RZgn",
        "colab": {
          "resources": {
            "http://localhost:8080/nbextensions/google.colab/files.js": {
              "data": "Ly8gQ29weXJpZ2h0IDIwMTcgR29vZ2xlIExMQwovLwovLyBMaWNlbnNlZCB1bmRlciB0aGUgQXBhY2hlIExpY2Vuc2UsIFZlcnNpb24gMi4wICh0aGUgIkxpY2Vuc2UiKTsKLy8geW91IG1heSBub3QgdXNlIHRoaXMgZmlsZSBleGNlcHQgaW4gY29tcGxpYW5jZSB3aXRoIHRoZSBMaWNlbnNlLgovLyBZb3UgbWF5IG9idGFpbiBhIGNvcHkgb2YgdGhlIExpY2Vuc2UgYXQKLy8KLy8gICAgICBodHRwOi8vd3d3LmFwYWNoZS5vcmcvbGljZW5zZXMvTElDRU5TRS0yLjAKLy8KLy8gVW5sZXNzIHJlcXVpcmVkIGJ5IGFwcGxpY2FibGUgbGF3IG9yIGFncmVlZCB0byBpbiB3cml0aW5nLCBzb2Z0d2FyZQovLyBkaXN0cmlidXRlZCB1bmRlciB0aGUgTGljZW5zZSBpcyBkaXN0cmlidXRlZCBvbiBhbiAiQVMgSVMiIEJBU0lTLAovLyBXSVRIT1VUIFdBUlJBTlRJRVMgT1IgQ09ORElUSU9OUyBPRiBBTlkgS0lORCwgZWl0aGVyIGV4cHJlc3Mgb3IgaW1wbGllZC4KLy8gU2VlIHRoZSBMaWNlbnNlIGZvciB0aGUgc3BlY2lmaWMgbGFuZ3VhZ2UgZ292ZXJuaW5nIHBlcm1pc3Npb25zIGFuZAovLyBsaW1pdGF0aW9ucyB1bmRlciB0aGUgTGljZW5zZS4KCi8qKgogKiBAZmlsZW92ZXJ2aWV3IEhlbHBlcnMgZm9yIGdvb2dsZS5jb2xhYiBQeXRob24gbW9kdWxlLgogKi8KKGZ1bmN0aW9uKHNjb3BlKSB7CmZ1bmN0aW9uIHNwYW4odGV4dCwgc3R5bGVBdHRyaWJ1dGVzID0ge30pIHsKICBjb25zdCBlbGVtZW50ID0gZG9jdW1lbnQuY3JlYXRlRWxlbWVudCgnc3BhbicpOwogIGVsZW1lbnQudGV4dENvbnRlbnQgPSB0ZXh0OwogIGZvciAoY29uc3Qga2V5IG9mIE9iamVjdC5rZXlzKHN0eWxlQXR0cmlidXRlcykpIHsKICAgIGVsZW1lbnQuc3R5bGVba2V5XSA9IHN0eWxlQXR0cmlidXRlc1trZXldOwogIH0KICByZXR1cm4gZWxlbWVudDsKfQoKLy8gTWF4IG51bWJlciBvZiBieXRlcyB3aGljaCB3aWxsIGJlIHVwbG9hZGVkIGF0IGEgdGltZS4KY29uc3QgTUFYX1BBWUxPQURfU0laRSA9IDEwMCAqIDEwMjQ7CgpmdW5jdGlvbiBfdXBsb2FkRmlsZXMoaW5wdXRJZCwgb3V0cHV0SWQpIHsKICBjb25zdCBzdGVwcyA9IHVwbG9hZEZpbGVzU3RlcChpbnB1dElkLCBvdXRwdXRJZCk7CiAgY29uc3Qgb3V0cHV0RWxlbWVudCA9IGRvY3VtZW50LmdldEVsZW1lbnRCeUlkKG91dHB1dElkKTsKICAvLyBDYWNoZSBzdGVwcyBvbiB0aGUgb3V0cHV0RWxlbWVudCB0byBtYWtlIGl0IGF2YWlsYWJsZSBmb3IgdGhlIG5leHQgY2FsbAogIC8vIHRvIHVwbG9hZEZpbGVzQ29udGludWUgZnJvbSBQeXRob24uCiAgb3V0cHV0RWxlbWVudC5zdGVwcyA9IHN0ZXBzOwoKICByZXR1cm4gX3VwbG9hZEZpbGVzQ29udGludWUob3V0cHV0SWQpOwp9CgovLyBUaGlzIGlzIHJvdWdobHkgYW4gYXN5bmMgZ2VuZXJhdG9yIChub3Qgc3VwcG9ydGVkIGluIHRoZSBicm93c2VyIHlldCksCi8vIHdoZXJlIHRoZXJlIGFyZSBtdWx0aXBsZSBhc3luY2hyb25vdXMgc3RlcHMgYW5kIHRoZSBQeXRob24gc2lkZSBpcyBnb2luZwovLyB0byBwb2xsIGZvciBjb21wbGV0aW9uIG9mIGVhY2ggc3RlcC4KLy8gVGhpcyB1c2VzIGEgUHJvbWlzZSB0byBibG9jayB0aGUgcHl0aG9uIHNpZGUgb24gY29tcGxldGlvbiBvZiBlYWNoIHN0ZXAsCi8vIHRoZW4gcGFzc2VzIHRoZSByZXN1bHQgb2YgdGhlIHByZXZpb3VzIHN0ZXAgYXMgdGhlIGlucHV0IHRvIHRoZSBuZXh0IHN0ZXAuCmZ1bmN0aW9uIF91cGxvYWRGaWxlc0NvbnRpbnVlKG91dHB1dElkKSB7CiAgY29uc3Qgb3V0cHV0RWxlbWVudCA9IGRvY3VtZW50LmdldEVsZW1lbnRCeUlkKG91dHB1dElkKTsKICBjb25zdCBzdGVwcyA9IG91dHB1dEVsZW1lbnQuc3RlcHM7CgogIGNvbnN0IG5leHQgPSBzdGVwcy5uZXh0KG91dHB1dEVsZW1lbnQubGFzdFByb21pc2VWYWx1ZSk7CiAgcmV0dXJuIFByb21pc2UucmVzb2x2ZShuZXh0LnZhbHVlLnByb21pc2UpLnRoZW4oKHZhbHVlKSA9PiB7CiAgICAvLyBDYWNoZSB0aGUgbGFzdCBwcm9taXNlIHZhbHVlIHRvIG1ha2UgaXQgYXZhaWxhYmxlIHRvIHRoZSBuZXh0CiAgICAvLyBzdGVwIG9mIHRoZSBnZW5lcmF0b3IuCiAgICBvdXRwdXRFbGVtZW50Lmxhc3RQcm9taXNlVmFsdWUgPSB2YWx1ZTsKICAgIHJldHVybiBuZXh0LnZhbHVlLnJlc3BvbnNlOwogIH0pOwp9CgovKioKICogR2VuZXJhdG9yIGZ1bmN0aW9uIHdoaWNoIGlzIGNhbGxlZCBiZXR3ZWVuIGVhY2ggYXN5bmMgc3RlcCBvZiB0aGUgdXBsb2FkCiAqIHByb2Nlc3MuCiAqIEBwYXJhbSB7c3RyaW5nfSBpbnB1dElkIEVsZW1lbnQgSUQgb2YgdGhlIGlucHV0IGZpbGUgcGlja2VyIGVsZW1lbnQuCiAqIEBwYXJhbSB7c3RyaW5nfSBvdXRwdXRJZCBFbGVtZW50IElEIG9mIHRoZSBvdXRwdXQgZGlzcGxheS4KICogQHJldHVybiB7IUl0ZXJhYmxlPCFPYmplY3Q+fSBJdGVyYWJsZSBvZiBuZXh0IHN0ZXBzLgogKi8KZnVuY3Rpb24qIHVwbG9hZEZpbGVzU3RlcChpbnB1dElkLCBvdXRwdXRJZCkgewogIGNvbnN0IGlucHV0RWxlbWVudCA9IGRvY3VtZW50LmdldEVsZW1lbnRCeUlkKGlucHV0SWQpOwogIGlucHV0RWxlbWVudC5kaXNhYmxlZCA9IGZhbHNlOwoKICBjb25zdCBvdXRwdXRFbGVtZW50ID0gZG9jdW1lbnQuZ2V0RWxlbWVudEJ5SWQob3V0cHV0SWQpOwogIG91dHB1dEVsZW1lbnQuaW5uZXJIVE1MID0gJyc7CgogIGNvbnN0IHBpY2tlZFByb21pc2UgPSBuZXcgUHJvbWlzZSgocmVzb2x2ZSkgPT4gewogICAgaW5wdXRFbGVtZW50LmFkZEV2ZW50TGlzdGVuZXIoJ2NoYW5nZScsIChlKSA9PiB7CiAgICAgIHJlc29sdmUoZS50YXJnZXQuZmlsZXMpOwogICAgfSk7CiAgfSk7CgogIGNvbnN0IGNhbmNlbCA9IGRvY3VtZW50LmNyZWF0ZUVsZW1lbnQoJ2J1dHRvbicpOwogIGlucHV0RWxlbWVudC5wYXJlbnRFbGVtZW50LmFwcGVuZENoaWxkKGNhbmNlbCk7CiAgY2FuY2VsLnRleHRDb250ZW50ID0gJ0NhbmNlbCB1cGxvYWQnOwogIGNvbnN0IGNhbmNlbFByb21pc2UgPSBuZXcgUHJvbWlzZSgocmVzb2x2ZSkgPT4gewogICAgY2FuY2VsLm9uY2xpY2sgPSAoKSA9PiB7CiAgICAgIHJlc29sdmUobnVsbCk7CiAgICB9OwogIH0pOwoKICAvLyBXYWl0IGZvciB0aGUgdXNlciB0byBwaWNrIHRoZSBmaWxlcy4KICBjb25zdCBmaWxlcyA9IHlpZWxkIHsKICAgIHByb21pc2U6IFByb21pc2UucmFjZShbcGlja2VkUHJvbWlzZSwgY2FuY2VsUHJvbWlzZV0pLAogICAgcmVzcG9uc2U6IHsKICAgICAgYWN0aW9uOiAnc3RhcnRpbmcnLAogICAgfQogIH07CgogIGNhbmNlbC5yZW1vdmUoKTsKCiAgLy8gRGlzYWJsZSB0aGUgaW5wdXQgZWxlbWVudCBzaW5jZSBmdXJ0aGVyIHBpY2tzIGFyZSBub3QgYWxsb3dlZC4KICBpbnB1dEVsZW1lbnQuZGlzYWJsZWQgPSB0cnVlOwoKICBpZiAoIWZpbGVzKSB7CiAgICByZXR1cm4gewogICAgICByZXNwb25zZTogewogICAgICAgIGFjdGlvbjogJ2NvbXBsZXRlJywKICAgICAgfQogICAgfTsKICB9CgogIGZvciAoY29uc3QgZmlsZSBvZiBmaWxlcykgewogICAgY29uc3QgbGkgPSBkb2N1bWVudC5jcmVhdGVFbGVtZW50KCdsaScpOwogICAgbGkuYXBwZW5kKHNwYW4oZmlsZS5uYW1lLCB7Zm9udFdlaWdodDogJ2JvbGQnfSkpOwogICAgbGkuYXBwZW5kKHNwYW4oCiAgICAgICAgYCgke2ZpbGUudHlwZSB8fCAnbi9hJ30pIC0gJHtmaWxlLnNpemV9IGJ5dGVzLCBgICsKICAgICAgICBgbGFzdCBtb2RpZmllZDogJHsKICAgICAgICAgICAgZmlsZS5sYXN0TW9kaWZpZWREYXRlID8gZmlsZS5sYXN0TW9kaWZpZWREYXRlLnRvTG9jYWxlRGF0ZVN0cmluZygpIDoKICAgICAgICAgICAgICAgICAgICAgICAgICAgICAgICAgICAgJ24vYSd9IC0gYCkpOwogICAgY29uc3QgcGVyY2VudCA9IHNwYW4oJzAlIGRvbmUnKTsKICAgIGxpLmFwcGVuZENoaWxkKHBlcmNlbnQpOwoKICAgIG91dHB1dEVsZW1lbnQuYXBwZW5kQ2hpbGQobGkpOwoKICAgIGNvbnN0IGZpbGVEYXRhUHJvbWlzZSA9IG5ldyBQcm9taXNlKChyZXNvbHZlKSA9PiB7CiAgICAgIGNvbnN0IHJlYWRlciA9IG5ldyBGaWxlUmVhZGVyKCk7CiAgICAgIHJlYWRlci5vbmxvYWQgPSAoZSkgPT4gewogICAgICAgIHJlc29sdmUoZS50YXJnZXQucmVzdWx0KTsKICAgICAgfTsKICAgICAgcmVhZGVyLnJlYWRBc0FycmF5QnVmZmVyKGZpbGUpOwogICAgfSk7CiAgICAvLyBXYWl0IGZvciB0aGUgZGF0YSB0byBiZSByZWFkeS4KICAgIGxldCBmaWxlRGF0YSA9IHlpZWxkIHsKICAgICAgcHJvbWlzZTogZmlsZURhdGFQcm9taXNlLAogICAgICByZXNwb25zZTogewogICAgICAgIGFjdGlvbjogJ2NvbnRpbnVlJywKICAgICAgfQogICAgfTsKCiAgICAvLyBVc2UgYSBjaHVua2VkIHNlbmRpbmcgdG8gYXZvaWQgbWVzc2FnZSBzaXplIGxpbWl0cy4gU2VlIGIvNjIxMTU2NjAuCiAgICBsZXQgcG9zaXRpb24gPSAwOwogICAgZG8gewogICAgICBjb25zdCBsZW5ndGggPSBNYXRoLm1pbihmaWxlRGF0YS5ieXRlTGVuZ3RoIC0gcG9zaXRpb24sIE1BWF9QQVlMT0FEX1NJWkUpOwogICAgICBjb25zdCBjaHVuayA9IG5ldyBVaW50OEFycmF5KGZpbGVEYXRhLCBwb3NpdGlvbiwgbGVuZ3RoKTsKICAgICAgcG9zaXRpb24gKz0gbGVuZ3RoOwoKICAgICAgY29uc3QgYmFzZTY0ID0gYnRvYShTdHJpbmcuZnJvbUNoYXJDb2RlLmFwcGx5KG51bGwsIGNodW5rKSk7CiAgICAgIHlpZWxkIHsKICAgICAgICByZXNwb25zZTogewogICAgICAgICAgYWN0aW9uOiAnYXBwZW5kJywKICAgICAgICAgIGZpbGU6IGZpbGUubmFtZSwKICAgICAgICAgIGRhdGE6IGJhc2U2NCwKICAgICAgICB9LAogICAgICB9OwoKICAgICAgbGV0IHBlcmNlbnREb25lID0gZmlsZURhdGEuYnl0ZUxlbmd0aCA9PT0gMCA/CiAgICAgICAgICAxMDAgOgogICAgICAgICAgTWF0aC5yb3VuZCgocG9zaXRpb24gLyBmaWxlRGF0YS5ieXRlTGVuZ3RoKSAqIDEwMCk7CiAgICAgIHBlcmNlbnQudGV4dENvbnRlbnQgPSBgJHtwZXJjZW50RG9uZX0lIGRvbmVgOwoKICAgIH0gd2hpbGUgKHBvc2l0aW9uIDwgZmlsZURhdGEuYnl0ZUxlbmd0aCk7CiAgfQoKICAvLyBBbGwgZG9uZS4KICB5aWVsZCB7CiAgICByZXNwb25zZTogewogICAgICBhY3Rpb246ICdjb21wbGV0ZScsCiAgICB9CiAgfTsKfQoKc2NvcGUuZ29vZ2xlID0gc2NvcGUuZ29vZ2xlIHx8IHt9OwpzY29wZS5nb29nbGUuY29sYWIgPSBzY29wZS5nb29nbGUuY29sYWIgfHwge307CnNjb3BlLmdvb2dsZS5jb2xhYi5fZmlsZXMgPSB7CiAgX3VwbG9hZEZpbGVzLAogIF91cGxvYWRGaWxlc0NvbnRpbnVlLAp9Owp9KShzZWxmKTsK",
              "ok": true,
              "headers": [
                [
                  "content-type",
                  "application/javascript"
                ]
              ],
              "status": 200,
              "status_text": ""
            }
          },
          "base_uri": "https://localhost:8080/",
          "height": 73
        },
        "outputId": "f24a2f19-6a41-4272-dc65-71cd1a77d78f"
      },
      "source": [
        "from google.colab import files\n",
        "uploaded = files.upload()"
      ],
      "execution_count": null,
      "outputs": [
        {
          "output_type": "display_data",
          "data": {
            "text/html": [
              "\n",
              "     <input type=\"file\" id=\"files-62ad39bf-1047-4fc0-9719-b14b964065b7\" name=\"files[]\" multiple disabled\n",
              "        style=\"border:none\" />\n",
              "     <output id=\"result-62ad39bf-1047-4fc0-9719-b14b964065b7\">\n",
              "      Upload widget is only available when the cell has been executed in the\n",
              "      current browser session. Please rerun this cell to enable.\n",
              "      </output>\n",
              "      <script src=\"/nbextensions/google.colab/files.js\"></script> "
            ],
            "text/plain": [
              "<IPython.core.display.HTML object>"
            ]
          },
          "metadata": {}
        },
        {
          "output_type": "stream",
          "name": "stdout",
          "text": [
            "Saving messy org names.csv to messy org names.csv\n"
          ]
        }
      ]
    },
    {
      "cell_type": "code",
      "metadata": {
        "id": "Bjon4p9R72o3",
        "colab": {
          "base_uri": "https://localhost:8080/"
        },
        "outputId": "37d95e72-7443-4749-91d1-2d08ee6ace82"
      },
      "source": [
        "import pandas as pd\n",
        "pd.set_option('display.max_colwidth', -1)\n",
        "from tqdm import tqdm\n",
        "from google.colab import drive\n",
        "import os\n",
        "from matplotlib import style\n",
        "style.use('fivethirtyeight')\n"
      ],
      "execution_count": null,
      "outputs": [
        {
          "output_type": "stream",
          "name": "stderr",
          "text": [
            "/usr/local/lib/python3.7/dist-packages/ipykernel_launcher.py:2: FutureWarning: Passing a negative integer is deprecated in version 1.0 and will not be supported in future version. Instead, use None to not limit the column width.\n",
            "  \n"
          ]
        }
      ]
    },
    {
      "cell_type": "markdown",
      "metadata": {
        "id": "MWOa7GZ4CwRr"
      },
      "source": [
        "The data can be found at the following link:\n",
        "https://drive.google.com/file/d/1EAXvkiik5EO8FcpEwfX3muQEm6cqPGrQ/view?usp=sharing\n"
      ]
    },
    {
      "cell_type": "code",
      "metadata": {
        "id": "zZmlhiE9jvdr",
        "colab": {
          "base_uri": "https://localhost:8080/"
        },
        "outputId": "b797e06b-62db-421a-8830-3c1dd5af7dbd"
      },
      "source": [
        "names =  pd.read_csv('messy org names.csv',encoding='latin')\n",
        "print('The shape: %d x %d' % names.shape)\n",
        "print('There are %d unique values' % names.buyer.shape[0])\n"
      ],
      "execution_count": null,
      "outputs": [
        {
          "output_type": "stream",
          "name": "stdout",
          "text": [
            "The shape: 3651 x 3\n",
            "There are 3651 unique values\n"
          ]
        }
      ]
    },
    {
      "cell_type": "markdown",
      "metadata": {
        "id": "OTTk4msvpGtz"
      },
      "source": [
        "##De duplication:"
      ]
    },
    {
      "cell_type": "code",
      "metadata": {
        "id": "w8nlYCUq8Ge6",
        "colab": {
          "base_uri": "https://localhost:8080/"
        },
        "outputId": "42fdb05b-f794-4fd1-fd2c-10e45c399e63"
      },
      "source": [
        "import re\n",
        "!pip install ftfy # amazing text cleaning for decode issues..\n",
        "from ftfy import fix_text\n",
        "\n",
        "def ngrams(string, n=3):\n",
        "    string = str(string)\n",
        "    string = fix_text(string) # fix text\n",
        "    string = string.encode(\"ascii\", errors=\"ignore\").decode() #remove non ascii chars\n",
        "    string = string.lower()\n",
        "    chars_to_remove = [\")\",\"(\",\".\",\"|\",\"[\",\"]\",\"{\",\"}\",\"'\"]\n",
        "    rx = '[' + re.escape(''.join(chars_to_remove)) + ']'\n",
        "    string = re.sub(rx, '', string)\n",
        "    string = string.replace('&', 'and')\n",
        "    string = string.replace(',', ' ')\n",
        "    string = string.replace('-', ' ')\n",
        "    string = string.title() # normalise case - capital at start of each word\n",
        "    string = re.sub(' +',' ',string).strip() # get rid of multiple spaces and replace with a single\n",
        "    string = ' '+ string +' ' # pad names for ngrams...\n",
        "    string = re.sub(r'[,-./]|\\sBD',r'', string)\n",
        "    ngrams = zip(*[string[i:] for i in range(n)])\n",
        "    return [''.join(ngram) for ngram in ngrams]\n",
        "\n",
        "print('All 3-grams in \"Department\":')\n",
        "print(ngrams('Department'))"
      ],
      "execution_count": null,
      "outputs": [
        {
          "output_type": "stream",
          "name": "stdout",
          "text": [
            "Collecting ftfy\n",
            "  Downloading ftfy-6.0.3.tar.gz (64 kB)\n",
            "\u001b[?25l\r\u001b[K     |█████                           | 10 kB 24.3 MB/s eta 0:00:01\r\u001b[K     |██████████▏                     | 20 kB 19.9 MB/s eta 0:00:01\r\u001b[K     |███████████████▎                | 30 kB 10.0 MB/s eta 0:00:01\r\u001b[K     |████████████████████▍           | 40 kB 4.5 MB/s eta 0:00:01\r\u001b[K     |█████████████████████████▌      | 51 kB 5.2 MB/s eta 0:00:01\r\u001b[K     |██████████████████████████████▋ | 61 kB 5.7 MB/s eta 0:00:01\r\u001b[K     |████████████████████████████████| 64 kB 1.7 MB/s \n",
            "\u001b[?25hRequirement already satisfied: wcwidth in /usr/local/lib/python3.7/dist-packages (from ftfy) (0.2.5)\n",
            "Building wheels for collected packages: ftfy\n",
            "  Building wheel for ftfy (setup.py) ... \u001b[?25l\u001b[?25hdone\n",
            "  Created wheel for ftfy: filename=ftfy-6.0.3-py3-none-any.whl size=41933 sha256=355321e4696e54c02f7dea6ba713f48cc450dd17f828d52ed6a62d78f1796b21\n",
            "  Stored in directory: /root/.cache/pip/wheels/19/f5/38/273eb3b5e76dfd850619312f693716ac4518b498f5ffb6f56d\n",
            "Successfully built ftfy\n",
            "Installing collected packages: ftfy\n",
            "Successfully installed ftfy-6.0.3\n",
            "All 3-grams in \"Department\":\n",
            "[' De', 'Dep', 'epa', 'par', 'art', 'rtm', 'tme', 'men', 'ent', 'nt ']\n"
          ]
        }
      ]
    },
    {
      "cell_type": "code",
      "metadata": {
        "id": "A79UqAxI8gTo",
        "colab": {
          "base_uri": "https://localhost:8080/"
        },
        "outputId": "ce2c1e9e-5736-4455-e053-a55235b2faa0"
      },
      "source": [
        "import numpy as np\n",
        "from scipy.sparse import csr_matrix\n",
        "!pip install sparse_dot_topn #uncomment to install\n",
        "import sparse_dot_topn.sparse_dot_topn as ct\n",
        "\n",
        "\n",
        "def awesome_cossim_top(A, B, ntop, lower_bound=0):\n",
        "    # force A and B as a CSR matrix.\n",
        "    # If they have already been CSR, there is no overhead\n",
        "    A = A.tocsr()\n",
        "    B = B.tocsr()\n",
        "    M, _ = A.shape\n",
        "    _, N = B.shape\n",
        " \n",
        "    idx_dtype = np.int32\n",
        " \n",
        "    nnz_max = M*ntop\n",
        " \n",
        "    indptr = np.zeros(M+1, dtype=idx_dtype)\n",
        "    indices = np.zeros(nnz_max, dtype=idx_dtype)\n",
        "    data = np.zeros(nnz_max, dtype=A.dtype)\n",
        "\n",
        "    ct.sparse_dot_topn(\n",
        "        M, N, np.asarray(A.indptr, dtype=idx_dtype),\n",
        "        np.asarray(A.indices, dtype=idx_dtype),\n",
        "        A.data,\n",
        "        np.asarray(B.indptr, dtype=idx_dtype),\n",
        "        np.asarray(B.indices, dtype=idx_dtype),\n",
        "        B.data,\n",
        "        ntop,\n",
        "        lower_bound,\n",
        "        indptr, indices, data)\n",
        "\n",
        "    return csr_matrix((data,indices,indptr),shape=(M,N))"
      ],
      "execution_count": null,
      "outputs": [
        {
          "output_type": "stream",
          "name": "stdout",
          "text": [
            "Collecting sparse_dot_topn\n",
            "  Downloading sparse_dot_topn-0.3.1.tar.gz (17 kB)\n",
            "  Installing build dependencies ... \u001b[?25l\u001b[?25hdone\n",
            "  Getting requirements to build wheel ... \u001b[?25l\u001b[?25hdone\n",
            "  Installing backend dependencies ... \u001b[?25l\u001b[?25hdone\n",
            "    Preparing wheel metadata ... \u001b[?25l\u001b[?25hdone\n",
            "Requirement already satisfied: cython>=0.29.15 in /usr/local/lib/python3.7/dist-packages (from sparse_dot_topn) (0.29.24)\n",
            "Requirement already satisfied: numpy>=1.16.6 in /usr/local/lib/python3.7/dist-packages (from sparse_dot_topn) (1.19.5)\n",
            "Requirement already satisfied: setuptools>=42 in /usr/local/lib/python3.7/dist-packages (from sparse_dot_topn) (57.4.0)\n",
            "Requirement already satisfied: scipy>=1.2.3 in /usr/local/lib/python3.7/dist-packages (from sparse_dot_topn) (1.4.1)\n",
            "Building wheels for collected packages: sparse-dot-topn\n",
            "  Building wheel for sparse-dot-topn (PEP 517) ... \u001b[?25l\u001b[?25hdone\n",
            "  Created wheel for sparse-dot-topn: filename=sparse_dot_topn-0.3.1-cp37-cp37m-linux_x86_64.whl size=1576369 sha256=21aa35901352da80920595f9e0afac5d48264bea280eea2ff6a4f8028db2e4e2\n",
            "  Stored in directory: /root/.cache/pip/wheels/3b/3e/02/4ee8cb28ed8b608d530bc43402518a895db8ce89aff8ca4e1f\n",
            "Successfully built sparse-dot-topn\n",
            "Installing collected packages: sparse-dot-topn\n",
            "Successfully installed sparse-dot-topn-0.3.1\n"
          ]
        }
      ]
    },
    {
      "cell_type": "code",
      "metadata": {
        "id": "ASiBTLWG3GGr"
      },
      "source": [
        "from sklearn.feature_extraction.text import TfidfVectorizer\n",
        "\n",
        "org_names = names['buyer'].unique()\n",
        "vectorizer = TfidfVectorizer(min_df=1, analyzer=ngrams)\n",
        "tf_idf_matrix = vectorizer.fit_transform(org_names)"
      ],
      "execution_count": null,
      "outputs": []
    },
    {
      "cell_type": "code",
      "metadata": {
        "id": "PYPOGZBm864e",
        "colab": {
          "base_uri": "https://localhost:8080/",
          "height": 34
        },
        "outputId": "b755a510-9edd-43fc-8035-2cbfc4e2f131"
      },
      "source": [
        "import time\n",
        "t1 = time.time()\n",
        "matches = awesome_cossim_top(tf_idf_matrix, tf_idf_matrix.transpose(), 10, 0.85)\n",
        "t = time.time()-t1\n",
        "print(\"SELFTIMED:\", t)"
      ],
      "execution_count": null,
      "outputs": [
        {
          "output_type": "stream",
          "text": [
            "SELFTIMED: 0.19199132919311523\n"
          ],
          "name": "stdout"
        }
      ]
    },
    {
      "cell_type": "markdown",
      "metadata": {
        "id": "75vYVJNyXteF"
      },
      "source": [
        "#### Comparison to traditional matching\n",
        "This code prints the time it takes to compare <b>only one</b> item against the population. As you can see, the TD IDF approach can match all items (3,600) significantly faster than it takes to compare a single item using the fuzzywuzzy library."
      ]
    },
    {
      "cell_type": "code",
      "metadata": {
        "id": "FeuMA6DPXEq9",
        "colab": {
          "base_uri": "https://localhost:8080/",
          "height": 85
        },
        "outputId": "3e699805-570f-44eb-d658-91fd039fc00c"
      },
      "source": [
        "!pip install fuzzywuzzy\n",
        "from fuzzywuzzy import fuzz\n",
        "from fuzzywuzzy import process\n",
        "\n",
        "t1 = time.time()\n",
        "print(process.extractOne('Ministry of Justice', org_names))\n",
        "t = time.time()-t1\n",
        "print(\"SELFTIMED:\", t)\n",
        "print(\"Estimated hours to complete for full dataset:\", (t*len(org_names))/60/60)"
      ],
      "execution_count": null,
      "outputs": [
        {
          "output_type": "stream",
          "text": [
            "Requirement already satisfied: fuzzywuzzy in /usr/local/lib/python3.6/dist-packages (0.17.0)\n",
            "('MINISTRY OF JUSTICE', 100)\n",
            "SELFTIMED: 3.7267706394195557\n",
            "Estimated hrs to complete for full dataset: 3.7795665568113326\n"
          ],
          "name": "stdout"
        }
      ]
    },
    {
      "cell_type": "markdown",
      "metadata": {
        "id": "bm4ZhuYpD335"
      },
      "source": [
        "#### Inputting results into a df:"
      ]
    },
    {
      "cell_type": "code",
      "metadata": {
        "id": "ZmTi9O4v9S3a"
      },
      "source": [
        "def get_matches_df(sparse_matrix, name_vector, top=100):\n",
        "    non_zeros = sparse_matrix.nonzero()\n",
        "    \n",
        "    sparserows = non_zeros[0]\n",
        "    sparsecols = non_zeros[1]\n",
        "    \n",
        "    if top:\n",
        "        nr_matches = top\n",
        "    else:\n",
        "        nr_matches = sparsecols.size\n",
        "    \n",
        "    left_side = np.empty([nr_matches], dtype=object)\n",
        "    right_side = np.empty([nr_matches], dtype=object)\n",
        "    similairity = np.zeros(nr_matches)\n",
        "    \n",
        "    for index in range(0, nr_matches):\n",
        "        left_side[index] = name_vector[sparserows[index]]\n",
        "        right_side[index] = name_vector[sparsecols[index]]\n",
        "        similairity[index] = sparse_matrix.data[index]\n",
        "    \n",
        "    return pd.DataFrame({'left_side': left_side,\n",
        "                          'right_side': right_side,\n",
        "                           'similairity': similairity})"
      ],
      "execution_count": null,
      "outputs": []
    },
    {
      "cell_type": "code",
      "metadata": {
        "id": "xgN1Zbjj9WGY",
        "colab": {
          "base_uri": "https://localhost:8080/",
          "height": 669
        },
        "outputId": "269132d4-dba8-46b0-a5ee-1aa0f838f846"
      },
      "source": [
        "matches_df = get_matches_df(matches, org_names, top=1000)\n",
        "matches_df = matches_df[matches_df['similairity'] < 0.99999] # Remove all exact matches\n",
        "matches_df.sample(20)"
      ],
      "execution_count": null,
      "outputs": [
        {
          "output_type": "execute_result",
          "data": {
            "text/html": [
              "<div>\n",
              "<style scoped>\n",
              "    .dataframe tbody tr th:only-of-type {\n",
              "        vertical-align: middle;\n",
              "    }\n",
              "\n",
              "    .dataframe tbody tr th {\n",
              "        vertical-align: top;\n",
              "    }\n",
              "\n",
              "    .dataframe thead th {\n",
              "        text-align: right;\n",
              "    }\n",
              "</style>\n",
              "<table border=\"1\" class=\"dataframe\">\n",
              "  <thead>\n",
              "    <tr style=\"text-align: right;\">\n",
              "      <th></th>\n",
              "      <th>left_side</th>\n",
              "      <th>right_side</th>\n",
              "      <th>similairity</th>\n",
              "    </tr>\n",
              "  </thead>\n",
              "  <tbody>\n",
              "    <tr>\n",
              "      <th>160</th>\n",
              "      <td>Telford &amp;amp; Wrekin Council</td>\n",
              "      <td>Telford and Wrekin Borough Council</td>\n",
              "      <td>0.895928</td>\n",
              "    </tr>\n",
              "    <tr>\n",
              "      <th>668</th>\n",
              "      <td>Ministry of Defence, C&amp;amp;C, C&amp;amp;C</td>\n",
              "      <td>Ministry of Defence, C&amp;amp;C,</td>\n",
              "      <td>0.917397</td>\n",
              "    </tr>\n",
              "    <tr>\n",
              "      <th>310</th>\n",
              "      <td>WATER SERVICES REGULATION AUTHORITY</td>\n",
              "      <td>Water Services Regulation Authority (Ofwat)</td>\n",
              "      <td>0.855080</td>\n",
              "    </tr>\n",
              "    <tr>\n",
              "      <th>517</th>\n",
              "      <td>Coventry &amp;amp; Warwickshire Partnership NHS Trust</td>\n",
              "      <td>Coventry and Warwickshire Partnership trust</td>\n",
              "      <td>0.922035</td>\n",
              "    </tr>\n",
              "    <tr>\n",
              "      <th>519</th>\n",
              "      <td>Coventry &amp;amp; Warwickshire Partnership NHS Trust</td>\n",
              "      <td>Coventry and Warwickshire Partnership Trust</td>\n",
              "      <td>0.922035</td>\n",
              "    </tr>\n",
              "    <tr>\n",
              "      <th>749</th>\n",
              "      <td>STUDENT LOANS COMPANY LIMITED</td>\n",
              "      <td>Student Loans Company Ltd</td>\n",
              "      <td>0.903655</td>\n",
              "    </tr>\n",
              "    <tr>\n",
              "      <th>594</th>\n",
              "      <td>West Dorset District Council</td>\n",
              "      <td>EAST DORSET DISTRICT COUNCIL</td>\n",
              "      <td>0.907082</td>\n",
              "    </tr>\n",
              "    <tr>\n",
              "      <th>748</th>\n",
              "      <td>STUDENT LOANS COMPANY LIMITED</td>\n",
              "      <td>Student Loans Company</td>\n",
              "      <td>0.915689</td>\n",
              "    </tr>\n",
              "    <tr>\n",
              "      <th>366</th>\n",
              "      <td>DORSET &amp;amp; WILTSHIRE FIRE AND RESCUE SERVICE</td>\n",
              "      <td>Dorset &amp;amp; Wiltshire Fire and Rescue Authority</td>\n",
              "      <td>0.864642</td>\n",
              "    </tr>\n",
              "    <tr>\n",
              "      <th>649</th>\n",
              "      <td>Dorset HealthCare University NHS Foundation Trust</td>\n",
              "      <td>Dorset HeathCare University NHS Foundation Trust</td>\n",
              "      <td>0.927448</td>\n",
              "    </tr>\n",
              "    <tr>\n",
              "      <th>374</th>\n",
              "      <td>Metropolitan Police Service</td>\n",
              "      <td>Metropolitan Police</td>\n",
              "      <td>0.911782</td>\n",
              "    </tr>\n",
              "    <tr>\n",
              "      <th>817</th>\n",
              "      <td>Driver &amp;amp; Vehicle Licensing Agency</td>\n",
              "      <td>DfT,  Driver and Vehicle Licensing Agency</td>\n",
              "      <td>0.900624</td>\n",
              "    </tr>\n",
              "    <tr>\n",
              "      <th>465</th>\n",
              "      <td>Home Office</td>\n",
              "      <td>Home Office : Home Office</td>\n",
              "      <td>0.933306</td>\n",
              "    </tr>\n",
              "    <tr>\n",
              "      <th>903</th>\n",
              "      <td>Wycombe Distict Council</td>\n",
              "      <td>Wycombe District Council</td>\n",
              "      <td>0.889710</td>\n",
              "    </tr>\n",
              "    <tr>\n",
              "      <th>198</th>\n",
              "      <td>The Council of the Borough of Bournemouth</td>\n",
              "      <td>The Council of Borough of Bournemouth</td>\n",
              "      <td>0.924089</td>\n",
              "    </tr>\n",
              "    <tr>\n",
              "      <th>652</th>\n",
              "      <td>Dorset HealthCare University NHS Foundation Trust</td>\n",
              "      <td>Dorset Healthcare Nhs Foundation Trust</td>\n",
              "      <td>0.863991</td>\n",
              "    </tr>\n",
              "    <tr>\n",
              "      <th>567</th>\n",
              "      <td>EAST OF ENGLAND AMBULANCE SERVICE NHS TRUST</td>\n",
              "      <td>East of England Ambulance Service</td>\n",
              "      <td>0.921117</td>\n",
              "    </tr>\n",
              "    <tr>\n",
              "      <th>669</th>\n",
              "      <td>Ministry of Defence, C&amp;amp;C, C&amp;amp;C</td>\n",
              "      <td>Ministry of Defence, C&amp;C</td>\n",
              "      <td>0.917397</td>\n",
              "    </tr>\n",
              "    <tr>\n",
              "      <th>141</th>\n",
              "      <td>Cheshire West and Chester Borough Council</td>\n",
              "      <td>CHESHIRE WEST AND CHESTER COUNCIL</td>\n",
              "      <td>0.884949</td>\n",
              "    </tr>\n",
              "    <tr>\n",
              "      <th>50</th>\n",
              "      <td>Defence Science &amp; Technology Laboratory (DSTL)</td>\n",
              "      <td>Ministry of Defence, DSTL, Defence Science &amp; Technology Laboratory (DSTL)</td>\n",
              "      <td>0.913713</td>\n",
              "    </tr>\n",
              "  </tbody>\n",
              "</table>\n",
              "</div>"
            ],
            "text/plain": [
              "                                             left_side  ... similairity\n",
              "160  Telford &amp; Wrekin Council                       ...  0.895928  \n",
              "668  Ministry of Defence, C&amp;C, C&amp;C              ...  0.917397  \n",
              "310  WATER SERVICES REGULATION AUTHORITY                ...  0.855080  \n",
              "517  Coventry &amp; Warwickshire Partnership NHS Trust  ...  0.922035  \n",
              "519  Coventry &amp; Warwickshire Partnership NHS Trust  ...  0.922035  \n",
              "749  STUDENT LOANS COMPANY LIMITED                      ...  0.903655  \n",
              "594  West Dorset District Council                       ...  0.907082  \n",
              "748  STUDENT LOANS COMPANY LIMITED                      ...  0.915689  \n",
              "366  DORSET &amp; WILTSHIRE FIRE AND RESCUE SERVICE     ...  0.864642  \n",
              "649  Dorset HealthCare University NHS Foundation Trust  ...  0.927448  \n",
              "374  Metropolitan Police Service                        ...  0.911782  \n",
              "817  Driver &amp; Vehicle Licensing Agency              ...  0.900624  \n",
              "465  Home Office                                        ...  0.933306  \n",
              "903  Wycombe Distict Council                            ...  0.889710  \n",
              "198  The Council of the Borough of Bournemouth          ...  0.924089  \n",
              "652  Dorset HealthCare University NHS Foundation Trust  ...  0.863991  \n",
              "567  EAST OF ENGLAND AMBULANCE SERVICE NHS TRUST        ...  0.921117  \n",
              "669  Ministry of Defence, C&amp;C, C&amp;C              ...  0.917397  \n",
              "141  Cheshire West and Chester Borough Council          ...  0.884949  \n",
              "50   Defence Science & Technology Laboratory (DSTL)     ...  0.913713  \n",
              "\n",
              "[20 rows x 3 columns]"
            ]
          },
          "metadata": {
            "tags": []
          },
          "execution_count": 30
        }
      ]
    },
    {
      "cell_type": "code",
      "metadata": {
        "id": "4lSYc0aW9uzI",
        "colab": {
          "base_uri": "https://localhost:8080/",
          "height": 669
        },
        "outputId": "72874ad7-0fc3-41e3-d074-2f756875bb88"
      },
      "source": [
        "matches_df.sort_values(['similairity'], ascending=False).head(20)"
      ],
      "execution_count": null,
      "outputs": [
        {
          "output_type": "execute_result",
          "data": {
            "text/html": [
              "<div>\n",
              "<style scoped>\n",
              "    .dataframe tbody tr th:only-of-type {\n",
              "        vertical-align: middle;\n",
              "    }\n",
              "\n",
              "    .dataframe tbody tr th {\n",
              "        vertical-align: top;\n",
              "    }\n",
              "\n",
              "    .dataframe thead th {\n",
              "        text-align: right;\n",
              "    }\n",
              "</style>\n",
              "<table border=\"1\" class=\"dataframe\">\n",
              "  <thead>\n",
              "    <tr style=\"text-align: right;\">\n",
              "      <th></th>\n",
              "      <th>left_side</th>\n",
              "      <th>right_side</th>\n",
              "      <th>similairity</th>\n",
              "    </tr>\n",
              "  </thead>\n",
              "  <tbody>\n",
              "    <tr>\n",
              "      <th>578</th>\n",
              "      <td>MINISTRY OF HOUSING, COMMUNITIES &amp;amp; LOCAL GOVERNMENT</td>\n",
              "      <td>Ministry of Housing, Communities &amp;amp; Local Government : Ministry of Housing, Communities &amp;amp; Local Government</td>\n",
              "      <td>0.985163</td>\n",
              "    </tr>\n",
              "    <tr>\n",
              "      <th>271</th>\n",
              "      <td>DEPARTMENT FOR INTERNATIONAL DEVELOPMENT</td>\n",
              "      <td>Department for International Development : Department for International Development</td>\n",
              "      <td>0.984561</td>\n",
              "    </tr>\n",
              "    <tr>\n",
              "      <th>170</th>\n",
              "      <td>DEPARTMENT FOR WORK AND PENSIONS</td>\n",
              "      <td>Department for Work and Pensions : Department for Work and Pensions</td>\n",
              "      <td>0.977116</td>\n",
              "    </tr>\n",
              "    <tr>\n",
              "      <th>781</th>\n",
              "      <td>Department for Work and Pensions</td>\n",
              "      <td>Department for Work and Pensions : Department for Work and Pensions</td>\n",
              "      <td>0.977116</td>\n",
              "    </tr>\n",
              "    <tr>\n",
              "      <th>637</th>\n",
              "      <td>Construction Industry Training Board</td>\n",
              "      <td>The Construction Industry Training Board</td>\n",
              "      <td>0.971572</td>\n",
              "    </tr>\n",
              "    <tr>\n",
              "      <th>144</th>\n",
              "      <td>THE UNITED KINGDOM HYDROGRAPHIC OFFICE</td>\n",
              "      <td>United Kingdom Hydrographic Office</td>\n",
              "      <td>0.971264</td>\n",
              "    </tr>\n",
              "    <tr>\n",
              "      <th>76</th>\n",
              "      <td>Department For Transport</td>\n",
              "      <td>Department for Transport : Department for Transport</td>\n",
              "      <td>0.969679</td>\n",
              "    </tr>\n",
              "    <tr>\n",
              "      <th>21</th>\n",
              "      <td>MINISTRY OF JUSTICE</td>\n",
              "      <td>Ministry of Justice : Ministry of Justice</td>\n",
              "      <td>0.967797</td>\n",
              "    </tr>\n",
              "    <tr>\n",
              "      <th>237</th>\n",
              "      <td>Ministry of Justice.</td>\n",
              "      <td>Ministry of Justice : Ministry of Justice</td>\n",
              "      <td>0.967797</td>\n",
              "    </tr>\n",
              "    <tr>\n",
              "      <th>425</th>\n",
              "      <td>THE COUNTESS OF CHESTER HOSPITAL NHS FOUNDATION TRUST</td>\n",
              "      <td>Countess Of Chester Hospital Nhs Foundation Trust</td>\n",
              "      <td>0.967022</td>\n",
              "    </tr>\n",
              "    <tr>\n",
              "      <th>426</th>\n",
              "      <td>THE COUNTESS OF CHESTER HOSPITAL NHS FOUNDATION TRUST</td>\n",
              "      <td>COUNTESS OF CHESTER HOSPITAL NHS FOUNDATION TRUST</td>\n",
              "      <td>0.967022</td>\n",
              "    </tr>\n",
              "    <tr>\n",
              "      <th>43</th>\n",
              "      <td>DEPARTMENT FOR EDUCATION</td>\n",
              "      <td>Department for Education : Department for Education</td>\n",
              "      <td>0.966699</td>\n",
              "    </tr>\n",
              "    <tr>\n",
              "      <th>701</th>\n",
              "      <td>Driver and Vehicle Standards Agency</td>\n",
              "      <td>The Driver &amp;amp; Vehicle Standards Agency</td>\n",
              "      <td>0.966187</td>\n",
              "    </tr>\n",
              "    <tr>\n",
              "      <th>700</th>\n",
              "      <td>Driver and Vehicle Standards Agency</td>\n",
              "      <td>The Driver and Vehicle Standards Agency</td>\n",
              "      <td>0.966187</td>\n",
              "    </tr>\n",
              "    <tr>\n",
              "      <th>459</th>\n",
              "      <td>Partners Procurement Service</td>\n",
              "      <td>Partners Procurement Services</td>\n",
              "      <td>0.964805</td>\n",
              "    </tr>\n",
              "    <tr>\n",
              "      <th>692</th>\n",
              "      <td>The Royal Borough of Kingston upon Thames</td>\n",
              "      <td>ROYAL BOROUGH OF KINGSTON-UPON-THAMES</td>\n",
              "      <td>0.962351</td>\n",
              "    </tr>\n",
              "    <tr>\n",
              "      <th>746</th>\n",
              "      <td>STUDENT LOANS COMPANY LIMITED</td>\n",
              "      <td>The Student Loans Company Limited</td>\n",
              "      <td>0.961784</td>\n",
              "    </tr>\n",
              "    <tr>\n",
              "      <th>476</th>\n",
              "      <td>Cabinet Office : Cabinet Office</td>\n",
              "      <td>Cabinet Office</td>\n",
              "      <td>0.961424</td>\n",
              "    </tr>\n",
              "    <tr>\n",
              "      <th>879</th>\n",
              "      <td>SOUTH OF ENGLAND PROCUREMENT SERVICES</td>\n",
              "      <td>NHS SOUTH OF ENGLAND PROCUREMENT SERVICES</td>\n",
              "      <td>0.958096</td>\n",
              "    </tr>\n",
              "    <tr>\n",
              "      <th>388</th>\n",
              "      <td>DIO, Defence Infrastructure Organisation (DIO)</td>\n",
              "      <td>DIO, Defence Infrastructure Organisation</td>\n",
              "      <td>0.952194</td>\n",
              "    </tr>\n",
              "  </tbody>\n",
              "</table>\n",
              "</div>"
            ],
            "text/plain": [
              "                                                   left_side  ... similairity\n",
              "578  MINISTRY OF HOUSING, COMMUNITIES &amp; LOCAL GOVERNMENT  ...  0.985163  \n",
              "271  DEPARTMENT FOR INTERNATIONAL DEVELOPMENT                 ...  0.984561  \n",
              "170  DEPARTMENT FOR WORK AND PENSIONS                         ...  0.977116  \n",
              "781  Department for Work and Pensions                         ...  0.977116  \n",
              "637  Construction Industry Training Board                     ...  0.971572  \n",
              "144  THE UNITED KINGDOM HYDROGRAPHIC OFFICE                   ...  0.971264  \n",
              "76   Department For Transport                                 ...  0.969679  \n",
              "21   MINISTRY OF JUSTICE                                      ...  0.967797  \n",
              "237  Ministry of Justice.                                     ...  0.967797  \n",
              "425  THE COUNTESS OF CHESTER HOSPITAL NHS FOUNDATION TRUST    ...  0.967022  \n",
              "426  THE COUNTESS OF CHESTER HOSPITAL NHS FOUNDATION TRUST    ...  0.967022  \n",
              "43   DEPARTMENT FOR EDUCATION                                 ...  0.966699  \n",
              "701  Driver and Vehicle Standards Agency                      ...  0.966187  \n",
              "700  Driver and Vehicle Standards Agency                      ...  0.966187  \n",
              "459  Partners Procurement Service                             ...  0.964805  \n",
              "692  The Royal Borough of Kingston upon Thames                ...  0.962351  \n",
              "746  STUDENT LOANS COMPANY LIMITED                            ...  0.961784  \n",
              "476  Cabinet Office : Cabinet Office                          ...  0.961424  \n",
              "879  SOUTH OF ENGLAND PROCUREMENT SERVICES                    ...  0.958096  \n",
              "388  DIO, Defence Infrastructure Organisation (DIO)           ...  0.952194  \n",
              "\n",
              "[20 rows x 3 columns]"
            ]
          },
          "metadata": {
            "tags": []
          },
          "execution_count": 31
        }
      ]
    },
    {
      "cell_type": "markdown",
      "metadata": {
        "id": "wFYdDZbPjKZI"
      },
      "source": [
        "## Record linkage\n",
        "Using a similar technique to the above, we can join our messy data to a clean set of master data."
      ]
    },
    {
      "cell_type": "markdown",
      "metadata": {
        "id": "G69wMxaaDi-x"
      },
      "source": [
        "The clean 'Gov Orgs ONS.xlsx' dataset can be found at the following link:\n",
        "https://drive.google.com/file/d/1uBxlrASNMA215x4o4pu8JmtA2Iu-sLNn/view?usp=sharing"
      ]
    },
    {
      "cell_type": "code",
      "metadata": {
        "id": "xo-X_nds97UN",
        "colab": {
          "base_uri": "https://localhost:8080/",
          "height": 136
        },
        "outputId": "db756e79-9ba8-40bc-8749-b9bbfaeaaa64"
      },
      "source": [
        "\n",
        "\n",
        "##################\n",
        "from sklearn.metrics.pairwise import cosine_similarity\n",
        "from sklearn.feature_extraction.text import TfidfVectorizer\n",
        "import re\n",
        "\n",
        "clean_org_names = pd.read_excel('Gov Orgs ONS.xlsx')\n",
        "clean_org_names = clean_org_names.iloc[:, 0:6]\n",
        "\n",
        "org_name_clean = clean_org_names['Institutions'].unique()\n",
        "\n",
        "print('Vecorizing the data - this could take a few minutes for large datasets...')\n",
        "vectorizer = TfidfVectorizer(min_df=1, analyzer=ngrams, lowercase=False)\n",
        "tfidf = vectorizer.fit_transform(org_name_clean)\n",
        "print('Vecorizing completed...')\n",
        "\n",
        "from sklearn.neighbors import NearestNeighbors\n",
        "nbrs = NearestNeighbors(n_neighbors=1, n_jobs=-1).fit(tfidf)\n",
        "\n",
        "org_column = 'buyer' #column to match against in the messy data\n",
        "unique_org = set(names[org_column].values) # set used for increased performance\n",
        "\n",
        "\n",
        "###matching query:\n",
        "def getNearestN(query):\n",
        "  queryTFIDF_ = vectorizer.transform(query)\n",
        "  distances, indices = nbrs.kneighbors(queryTFIDF_)\n",
        "  return distances, indices\n",
        "\n",
        "import time\n",
        "t1 = time.time()\n",
        "print('getting nearest n...')\n",
        "distances, indices = getNearestN(unique_org)\n",
        "t = time.time()-t1\n",
        "print(\"COMPLETED IN:\", t)\n",
        "\n",
        "unique_org = list(unique_org) #need to convert back to a list\n",
        "print('finding matches...')\n",
        "matches = []\n",
        "for i,j in enumerate(indices):\n",
        "  temp = [round(distances[i][0],2), clean_org_names.values[j][0][0],unique_org[i]]\n",
        "  matches.append(temp)\n",
        "\n",
        "print('Building data frame...')  \n",
        "matches = pd.DataFrame(matches, columns=['Match confidence (lower is better)','Matched name','Origional name'])\n",
        "print('Done') "
      ],
      "execution_count": null,
      "outputs": [
        {
          "output_type": "stream",
          "text": [
            "Vecorizing the data - this could take a few minutes for large datasets...\n",
            "Vecorizing completed...\n",
            "getting nearest n...\n",
            "COMPLETED IN: 0.8935930728912354\n",
            "finding matches...\n",
            "Building data frame...\n",
            "Done\n"
          ],
          "name": "stdout"
        }
      ]
    },
    {
      "cell_type": "code",
      "metadata": {
        "id": "Xwdfl4Gtqwet",
        "colab": {
          "base_uri": "https://localhost:8080/",
          "height": 359
        },
        "outputId": "2f98ddf7-6d4d-468e-d8ff-7fd14164b367"
      },
      "source": [
        "matches.head(10)"
      ],
      "execution_count": null,
      "outputs": [
        {
          "output_type": "execute_result",
          "data": {
            "text/html": [
              "<div>\n",
              "<style scoped>\n",
              "    .dataframe tbody tr th:only-of-type {\n",
              "        vertical-align: middle;\n",
              "    }\n",
              "\n",
              "    .dataframe tbody tr th {\n",
              "        vertical-align: top;\n",
              "    }\n",
              "\n",
              "    .dataframe thead th {\n",
              "        text-align: right;\n",
              "    }\n",
              "</style>\n",
              "<table border=\"1\" class=\"dataframe\">\n",
              "  <thead>\n",
              "    <tr style=\"text-align: right;\">\n",
              "      <th></th>\n",
              "      <th>Match confidence (lower is better)</th>\n",
              "      <th>Matched name</th>\n",
              "      <th>Origional name</th>\n",
              "    </tr>\n",
              "  </thead>\n",
              "  <tbody>\n",
              "    <tr>\n",
              "      <th>0</th>\n",
              "      <td>0.96</td>\n",
              "      <td>Offshore Renewable Energy Catapult</td>\n",
              "      <td>Energy Systems Catapult</td>\n",
              "    </tr>\n",
              "    <tr>\n",
              "      <th>1</th>\n",
              "      <td>1.01</td>\n",
              "      <td>Derby City Council</td>\n",
              "      <td>University of Derby</td>\n",
              "    </tr>\n",
              "    <tr>\n",
              "      <th>2</th>\n",
              "      <td>1.13</td>\n",
              "      <td>Remploy Limited</td>\n",
              "      <td>Sovini Limited</td>\n",
              "    </tr>\n",
              "    <tr>\n",
              "      <th>3</th>\n",
              "      <td>0.00</td>\n",
              "      <td>Leicester City Council</td>\n",
              "      <td>Leicester city council</td>\n",
              "    </tr>\n",
              "    <tr>\n",
              "      <th>4</th>\n",
              "      <td>0.82</td>\n",
              "      <td>Ministry of Defence</td>\n",
              "      <td>Ministry of Defence, C&amp;C, C&amp;C</td>\n",
              "    </tr>\n",
              "    <tr>\n",
              "      <th>5</th>\n",
              "      <td>1.10</td>\n",
              "      <td>Thurrock Council</td>\n",
              "      <td>BASILDON AND THURROCK UNIVERSITY HOSPITALS NHS FOUNDATION TRUST</td>\n",
              "    </tr>\n",
              "    <tr>\n",
              "      <th>6</th>\n",
              "      <td>0.00</td>\n",
              "      <td>London Borough of Hounslow</td>\n",
              "      <td>London Borough of Hounslow</td>\n",
              "    </tr>\n",
              "    <tr>\n",
              "      <th>7</th>\n",
              "      <td>0.00</td>\n",
              "      <td>Northumberland County Council</td>\n",
              "      <td>Northumberland County Council</td>\n",
              "    </tr>\n",
              "    <tr>\n",
              "      <th>8</th>\n",
              "      <td>0.80</td>\n",
              "      <td>Scottish Fire and Rescue Service</td>\n",
              "      <td>Derbyshire Fire and Rescue Service</td>\n",
              "    </tr>\n",
              "    <tr>\n",
              "      <th>9</th>\n",
              "      <td>1.02</td>\n",
              "      <td>The English Heritage Trust</td>\n",
              "      <td>English Heritage-National Collections: Historic Properties</td>\n",
              "    </tr>\n",
              "  </tbody>\n",
              "</table>\n",
              "</div>"
            ],
            "text/plain": [
              "   Match confidence (lower is better)  ...                                                   Origional name\n",
              "0  0.96                                ...  Energy Systems Catapult                                        \n",
              "1  1.01                                ...  University of Derby                                            \n",
              "2  1.13                                ...  Sovini Limited                                                 \n",
              "3  0.00                                ...  Leicester city council                                         \n",
              "4  0.82                                ...  Ministry of Defence, C&C, C&C                                  \n",
              "5  1.10                                ...  BASILDON AND THURROCK UNIVERSITY HOSPITALS NHS FOUNDATION TRUST\n",
              "6  0.00                                ...  London Borough of Hounslow                                     \n",
              "7  0.00                                ...  Northumberland County Council                                  \n",
              "8  0.80                                ...  Derbyshire Fire and Rescue Service                             \n",
              "9  1.02                                ...  English Heritage-National Collections: Historic Properties     \n",
              "\n",
              "[10 rows x 3 columns]"
            ]
          },
          "metadata": {
            "tags": []
          },
          "execution_count": 14
        }
      ]
    },
    {
      "cell_type": "code",
      "metadata": {
        "id": "FSbSr_pNzAc4"
      },
      "source": [
        ""
      ],
      "execution_count": null,
      "outputs": []
    }
  ]
}