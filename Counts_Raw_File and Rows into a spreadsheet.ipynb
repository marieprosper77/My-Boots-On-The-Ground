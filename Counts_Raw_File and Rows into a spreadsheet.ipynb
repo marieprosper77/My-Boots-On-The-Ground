{
 "cells": [
  {
   "cell_type": "code",
   "execution_count": 1,
   "id": "37022a54",
   "metadata": {},
   "outputs": [],
   "source": [
    "#pip install ipykernel"
   ]
  },
  {
   "cell_type": "code",
   "execution_count": 2,
   "id": "baee8e72",
   "metadata": {},
   "outputs": [],
   "source": [
    "import os\n",
    "import pandas as pd\n",
    "import time\n",
    "import glob, numpy as np\n",
    "import sys\n",
    "import openpyxl"
   ]
  },
  {
   "cell_type": "code",
   "execution_count": 3,
   "id": "2891d8fa",
   "metadata": {},
   "outputs": [],
   "source": [
    "import warnings\n",
    "\n",
    "with warnings.catch_warnings(record=True):\n",
    "    warnings.simplefilter(\"ignore\")\n",
    "    #warnings.simplefilter(\"always\")\n",
    "    #myexcelfile = pd.read_excel(easy_payfile, engine=\"openpyxl\")"
   ]
  },
  {
   "cell_type": "code",
   "execution_count": null,
   "id": "d5fceed7",
   "metadata": {},
   "outputs": [],
   "source": [
    "#directory_act = '//path\\folder\\ Activities'\n",
    "directory_act = (r'C:\\Users\\prosperm\\OneDrive\\Activities')\n",
    "\n",
    "#create a list for add all\n",
    "act_rows_list = []\n",
    "\n",
    "act_count=0\n",
    "for act_filename in os.listdir(directory_act):\n",
    "    if act_filename.endswith(\".xlsx\"):\n",
    "         file_act=os.path.join(directory_act, act_filename)\n",
    "         act_df=pd.read_excel(file_act, engine=\"openpyxl\")\n",
    "         act_count=act_count+1\n",
    "         #note_text_str = note_filenname.replace(' ', '_')\n",
    "           \n",
    "         #Count rows\n",
    "         act_rowcount=len(act_df.index)\n",
    "         print('File number: ',act_count,act_filename,act_rowcount)\n",
    "         act_new_row = {'namefile':act_filename, 'Raw_Rowcount':act_rowcount}\n",
    "         act_rows_list.append(act_new_row)\n",
    "    if act_filename.endswith(\".XLSX\"):\n",
    "        file_act=os.path.join(directory_act, act_filename)\n",
    "        act_df=pd.read_excel(file_act, engine=\"openpyxl\")\n",
    "        act_count=act_count+1\n",
    "        #note_text_str = note_filenname.replace(' ', '_')\n",
    "           \n",
    "        #Count rows\n",
    "        act_rowcount=len(act_df.index)\n",
    "        print('File number: ',act_count,act_filename,act_rowcount)\n",
    "        #'Data Source':'Activities',\n",
    "        act_new_row = {'namefile':act_filename, 'Raw_Rowcount':act_rowcount}\n",
    "        act_rows_list.append(act_new_row)       \n",
    "            \n",
    "#pass list to dataframe\n",
    "df1_act = pd.DataFrame(act_rows_list)\n",
    "\n"
   ]
  },
  {
   "cell_type": "code",
   "execution_count": null,
   "id": "6ef29b69",
   "metadata": {},
   "outputs": [],
   "source": [
    "#pass list to dataframe\n",
    "\n",
    "\n",
    "writer = pd.ExcelWriter('Activities.xlsx', engine='xlsxwriter')\n",
    "df1_act.to_excel(writer, sheet_name='Activities')\n",
    "\n",
    "writer.save()"
   ]
  },
  {
   "cell_type": "code",
   "execution_count": null,
   "id": "bdbe4693",
   "metadata": {},
   "outputs": [],
   "source": [
    "act_df.close()"
   ]
  },
  {
   "cell_type": "code",
   "execution_count": null,
   "id": "f41268d1",
   "metadata": {},
   "outputs": [],
   "source": [
    "#Run when above has an output number but synch is still pending in folder\n",
    "\n",
    "writer.close()"
   ]
  },
  {
   "cell_type": "code",
   "execution_count": null,
   "id": "dbad6a75",
   "metadata": {},
   "outputs": [],
   "source": []
  }
 ],
 "metadata": {
  "kernelspec": {
   "display_name": "Python 3",
   "language": "python",
   "name": "python3"
  },
  "language_info": {
   "codemirror_mode": {
    "name": "ipython",
    "version": 3
   },
   "file_extension": ".py",
   "mimetype": "text/x-python",
   "name": "python",
   "nbconvert_exporter": "python",
   "pygments_lexer": "ipython3",
   "version": "3.8.8"
  }
 },
 "nbformat": 4,
 "nbformat_minor": 5
}
